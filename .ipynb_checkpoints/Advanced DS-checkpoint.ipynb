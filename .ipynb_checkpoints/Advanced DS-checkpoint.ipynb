{
 "cells": [
  {
   "cell_type": "markdown",
   "id": "fa14a3b8-cdd7-4620-9207-b45d245c5d35",
   "metadata": {},
   "source": [
    "# following are the solutions to all 35 questions on advanced DataStructure"
   ]
  },
  {
   "cell_type": "markdown",
   "id": "ca6f727b-5dd3-420b-a2c4-f228abd28f6c",
   "metadata": {},
   "source": [
    "## Q1. The reverse_string  takes a string as input and returns a new string with the characters in reverse order."
   ]
  },
  {
   "cell_type": "code",
   "execution_count": 1,
   "id": "c23e9811-629f-49a4-87d9-abab45dbdcc8",
   "metadata": {},
   "outputs": [
    {
     "name": "stdin",
     "output_type": "stream",
     "text": [
      "Enter a String:  Arnab Lala\n"
     ]
    },
    {
     "name": "stdout",
     "output_type": "stream",
     "text": [
      "The reversed String is: alaL banrA\n"
     ]
    }
   ],
   "source": [
    "## code\n",
    "\n",
    "s= input(\"Enter a String: \")\n",
    "\n",
    "s=s[::-1]\n",
    "print(f\"The reversed String is: {s}\")"
   ]
  },
  {
   "cell_type": "code",
   "execution_count": null,
   "id": "25afc8fd-4c9d-4217-a7c4-7fa18e9e37dd",
   "metadata": {},
   "outputs": [],
   "source": []
  },
  {
   "cell_type": "markdown",
   "id": "6c9ea3f0-750d-4b2e-bfcd-a4321a035486",
   "metadata": {},
   "source": [
    "## Q2. count Vowels"
   ]
  },
  {
   "cell_type": "code",
   "execution_count": 2,
   "id": "6133f959-8117-4b8a-82c3-af416373280c",
   "metadata": {},
   "outputs": [
    {
     "name": "stdout",
     "output_type": "stream",
     "text": [
      "Number of vowels: 9\n"
     ]
    }
   ],
   "source": [
    "## code\n",
    "def count_vowels(input_string):\n",
    "    vowels = \"aeiouAEIOU\"\n",
    "    count = 0\n",
    "    for char in input_string:\n",
    "        if char in vowels:\n",
    "            count += 1\n",
    "    return count\n",
    "\n",
    "# Example usage:\n",
    "input_str = \"Hello, World!,This is Python Programming.\"\n",
    "vowel_count = count_vowels(input_str)\n",
    "print(\"Number of vowels:\", vowel_count)"
   ]
  },
  {
   "cell_type": "code",
   "execution_count": null,
   "id": "8b205269-a6e5-4ac9-9790-8098183eca54",
   "metadata": {},
   "outputs": [],
   "source": []
  },
  {
   "cell_type": "markdown",
   "id": "95415564-18b3-4be1-aa32-f683fc0b3d45",
   "metadata": {},
   "source": [
    "## Q3. check if a string is palindrome "
   ]
  },
  {
   "cell_type": "code",
   "execution_count": 3,
   "id": "354f48cf-9a88-4d0f-8886-a37923ac3550",
   "metadata": {},
   "outputs": [
    {
     "name": "stdin",
     "output_type": "stream",
     "text": [
      "Enter a  string to Reverse: malayalam\n"
     ]
    },
    {
     "name": "stdout",
     "output_type": "stream",
     "text": [
      "The Input String was:  malayalam\n",
      "The Reversed String is:  malayalam\n",
      "The two string are PALINDROME!\n"
     ]
    }
   ],
   "source": [
    "## Check palindrome String\n",
    "\n",
    "inputstring = input(\"Enter a  string to Reverse:\")\n",
    "\n",
    "def palindrome(inputstring):\n",
    "    revstr = inputstring[::-1]\n",
    "\n",
    "    print(\"The Input String was: \",inputstring)\n",
    "    print(\"The Reversed String is: \",revstr)\n",
    "    if revstr ==  inputstring:\n",
    "        print(\"The two string are PALINDROME!\")\n",
    "\n",
    "    else:\n",
    "        print(\"The two strings are not Palindrome\")\n",
    "palindrome(inputstring)"
   ]
  },
  {
   "cell_type": "code",
   "execution_count": null,
   "id": "c8cba63e-0584-4832-bd9e-8ac0dce316e3",
   "metadata": {},
   "outputs": [],
   "source": []
  },
  {
   "cell_type": "markdown",
   "id": "a0f3b2e6-1802-437a-9778-baa716870d90",
   "metadata": {},
   "source": [
    "## Q4. check anagram "
   ]
  },
  {
   "cell_type": "code",
   "execution_count": 4,
   "id": "5fec439d-d484-46bd-a75d-f4803aa33deb",
   "metadata": {},
   "outputs": [
    {
     "name": "stdin",
     "output_type": "stream",
     "text": [
      "Enter the 1st string:  silent\n",
      "Enter the 2nd string:  listen\n"
     ]
    },
    {
     "name": "stdout",
     "output_type": "stream",
     "text": [
      "The strings are Anagram \n"
     ]
    }
   ],
   "source": [
    "## check if 2 strings are anagrams or not!\n",
    "\n",
    "str1 = input(\"Enter the 1st string: \")\n",
    "str2 = input(\"Enter the 2nd string: \")\n",
    "\n",
    "def checkAnagram(str1,str2):\n",
    "    if sorted(str1) == sorted(str2):\n",
    "        return 1\n",
    "    else:\n",
    "        return 0\n",
    "\n",
    "if checkAnagram(str1,str2) == 1:\n",
    "    print(\"The strings are Anagram \")\n",
    "else:\n",
    "    print(\"The strings are not Anagram\")"
   ]
  },
  {
   "cell_type": "code",
   "execution_count": null,
   "id": "405b00b6-e133-4ffe-9fb2-5af97ba6f80c",
   "metadata": {},
   "outputs": [],
   "source": []
  },
  {
   "cell_type": "markdown",
   "id": "46cce1bb-fc1a-4975-a67f-85fb9883327c",
   "metadata": {},
   "source": [
    "## Q5. find occurance of substring in given string"
   ]
  },
  {
   "cell_type": "code",
   "execution_count": 5,
   "id": "3c32c8a6-6c1d-42f2-b4a1-f595d84fd29e",
   "metadata": {},
   "outputs": [
    {
     "name": "stdout",
     "output_type": "stream",
     "text": [
      "The substring 'hello' occurs 3 times in the main string.\n"
     ]
    }
   ],
   "source": [
    "main_string = \"hello hello hello world\"\n",
    "substring = \"hello\"\n",
    "\n",
    "# Count occurrences of substring in main_string\n",
    "count = main_string.count(substring)\n",
    "\n",
    "print(f\"The substring '{substring}' occurs {count} times in the main string.\")"
   ]
  },
  {
   "cell_type": "code",
   "execution_count": null,
   "id": "0fb1d336-43f5-4ed9-8439-5cdda9b06286",
   "metadata": {},
   "outputs": [],
   "source": []
  },
  {
   "cell_type": "markdown",
   "id": "b3b69ae9-3931-4b5f-adb4-5fbb47367cfb",
   "metadata": {},
   "source": [
    "## Q6. String Compression"
   ]
  },
  {
   "cell_type": "code",
   "execution_count": 6,
   "id": "b6543b76-d61e-4368-a7c3-c15fcd3b9416",
   "metadata": {},
   "outputs": [],
   "source": [
    "## code\n",
    "def compress_string(string):\n",
    "    if not string:\n",
    "        return \"\"\n",
    "\n",
    "    compressed = []\n",
    "    count = 1\n",
    "    prev_char = string[0]\n",
    "\n",
    "    for char in string[1:]:\n",
    "        if char == prev_char:\n",
    "            count += 1\n",
    "        else:\n",
    "            compressed.append(f\"{prev_char}{count}\")\n",
    "            prev_char = char\n",
    "            count = 1\n",
    "\n",
    "    compressed.append(f\"{prev_char}{count}\")\n",
    "    compressed_string = ''.join(compressed)"
   ]
  },
  {
   "cell_type": "code",
   "execution_count": null,
   "id": "4c863b80-d735-4d8e-99aa-f4271e7e1334",
   "metadata": {},
   "outputs": [],
   "source": []
  },
  {
   "cell_type": "markdown",
   "id": "d2d8ef10-fc5b-4653-8b0c-7cd8257b157c",
   "metadata": {},
   "source": [
    "## Q7. check if all characters are unique or not"
   ]
  },
  {
   "cell_type": "code",
   "execution_count": null,
   "id": "04f03b3c-1fa7-4a82-8284-0e9a48250967",
   "metadata": {},
   "outputs": [],
   "source": [
    "## code\n",
    "original= input(\"Enter a String: \")\n",
    "flag = 1\n",
    "def checkUnique(original):\n",
    "    for char in original:\n",
    "        index = original.count(char)\n",
    "\n",
    "        if index == 1:\n",
    "            flag = 1\n",
    "            continue\n",
    "        else:\n",
    "            flag = 0\n",
    "            break\n",
    "\n",
    "    return  flag\n",
    "flag = checkUnique(original)\n",
    "if flag == 1:\n",
    "    print(\"All characters in String ARE unique\")\n",
    "else:\n",
    "    print(\"All characters in String are NOT unique\")"
   ]
  },
  {
   "cell_type": "code",
   "execution_count": null,
   "id": "4cca8da8-2436-471a-b420-0115d047140a",
   "metadata": {},
   "outputs": [],
   "source": []
  },
  {
   "cell_type": "markdown",
   "id": "6bda21bc-1f44-4cdd-a809-23bfaf0fc85c",
   "metadata": {},
   "source": [
    "## Q8. Upper to Lower conversion"
   ]
  },
  {
   "cell_type": "code",
   "execution_count": null,
   "id": "29e13233-22bb-463f-947d-71be37fce508",
   "metadata": {},
   "outputs": [],
   "source": [
    "while 1:\n",
    "    ch = input(\"\\n Press U to convert to UpperCase\\n Press L to convert to LowerCase\\n Press Q to Quit\\n Enter your choice: \")\n",
    "    if ch == 'q' or ch == 'Q':\n",
    "        exit()\n",
    "    else:\n",
    "        if ch == 'U' or ch == 'u':\n",
    "            Str = input(\"Enter a String, all in Lowercase: \")\n",
    "            Str = Str.upper()\n",
    "            print(\"Upper Case-> \",Str)\n",
    "        else:\n",
    "            Str = input(\"Enter a String, all in Uppercase: \")\n",
    "            Str = Str.lower()\n",
    "            print(\"Lower Case-> \", Str)"
   ]
  },
  {
   "cell_type": "code",
   "execution_count": null,
   "id": "60140774-050f-4415-9c4e-1e3a8d9952c5",
   "metadata": {},
   "outputs": [],
   "source": []
  },
  {
   "cell_type": "markdown",
   "id": "09e84134-d8e8-4785-964a-e3de86a0052a",
   "metadata": {},
   "source": [
    "## Q9. Count no of words in String"
   ]
  },
  {
   "cell_type": "code",
   "execution_count": 8,
   "id": "e029281a-3e78-4eb3-87d2-c46d0973c01f",
   "metadata": {},
   "outputs": [
    {
     "name": "stdin",
     "output_type": "stream",
     "text": [
      "Enter a String:  Hello World! This is python programing\n"
     ]
    },
    {
     "name": "stdout",
     "output_type": "stream",
     "text": [
      "No.of Words in String is->  6\n"
     ]
    }
   ],
   "source": [
    "## code\n",
    "Str = input(\"Enter a String: \")\n",
    "def count_NoofWords(Str):\n",
    "    Str = Str.split(\" \")\n",
    "    print(\"No.of Words in String is-> \",len(Str))\n",
    "\n",
    "count_NoofWords(Str)"
   ]
  },
  {
   "cell_type": "code",
   "execution_count": null,
   "id": "26fcb236-b82d-4792-ba06-ef771adcacea",
   "metadata": {},
   "outputs": [],
   "source": []
  },
  {
   "cell_type": "markdown",
   "id": "c949f39d-cd41-4a84-920f-24e8d8d5b833",
   "metadata": {},
   "source": [
    "## Q10. Concatinate 2 strings"
   ]
  },
  {
   "cell_type": "code",
   "execution_count": 9,
   "id": "c5cd2d49-7dc7-47ae-a812-1c228573cb83",
   "metadata": {},
   "outputs": [
    {
     "name": "stdin",
     "output_type": "stream",
     "text": [
      "Enter the 1st String:  Arnab\n",
      "Enter the 2nd String:  Lala\n"
     ]
    },
    {
     "name": "stdout",
     "output_type": "stream",
     "text": [
      "The concatinated Strings are ArnabLala\n"
     ]
    }
   ],
   "source": [
    "## code\n",
    "Str1 = input(\"Enter the 1st String: \")\n",
    "Str2 = input(\"Enter the 2nd String: \")\n",
    "\n",
    "def concatinateStrings(Str1,Str2):\n",
    "    return f\"The concatinated Strings are {Str1}{Str2}\"\n",
    "\n",
    "\n",
    "concatenated = concatinateStrings(Str1, Str2)\n",
    "print(concatenated)"
   ]
  },
  {
   "cell_type": "code",
   "execution_count": null,
   "id": "f98ad16d-07b3-4cd1-8727-c0ad854ca675",
   "metadata": {},
   "outputs": [],
   "source": []
  },
  {
   "cell_type": "markdown",
   "id": "1e00d7b6-4fc8-4483-b10f-5a61410e79df",
   "metadata": {},
   "source": [
    "## Q11 Remove specific element from list"
   ]
  },
  {
   "cell_type": "code",
   "execution_count": 10,
   "id": "f29c0ffa-eafb-47b1-950d-db40fab23925",
   "metadata": {},
   "outputs": [
    {
     "name": "stdout",
     "output_type": "stream",
     "text": [
      "['programing', 'world', 'python']\n"
     ]
    }
   ],
   "source": [
    "## code\n",
    "lst =[\"hello\",\"hello\",\"programing\",\"hello\",\"world\",\"hello\",\"python\",\"hello\"]\n",
    "remove = \"hello\"\n",
    "def removeoccurance():\n",
    "    for ele in lst:\n",
    "        if ele == remove:\n",
    "            lst.remove(ele)\n",
    "    lst.remove(ele)\n",
    "    return (lst)\n",
    "\n",
    "result = removeoccurance()\n",
    "print(result)"
   ]
  },
  {
   "cell_type": "code",
   "execution_count": null,
   "id": "80313ea2-a8f4-44cb-a156-811ada6ef472",
   "metadata": {},
   "outputs": [],
   "source": []
  },
  {
   "cell_type": "markdown",
   "id": "3360b3d2-73aa-42f8-8a63-5cab33023ca1",
   "metadata": {},
   "source": [
    "## Q12 Second Largest element from list"
   ]
  },
  {
   "cell_type": "code",
   "execution_count": 11,
   "id": "bda14ff3-07d1-4bfc-bcaa-875c0dcf4e71",
   "metadata": {},
   "outputs": [
    {
     "name": "stdout",
     "output_type": "stream",
     "text": [
      "The second Largest element is-> 6000\n"
     ]
    }
   ],
   "source": [
    "lst=[1001,200,4005,500,6000,7337,3775,]\n",
    "lst.sort()\n",
    "print(f\"The second Largest element is-> {lst[-2]}\")"
   ]
  },
  {
   "cell_type": "code",
   "execution_count": null,
   "id": "6770316b-9bd7-46d7-8cb5-21ffb5901af3",
   "metadata": {},
   "outputs": [],
   "source": []
  },
  {
   "cell_type": "markdown",
   "id": "c9d5084c-f594-4b38-b323-02d2347ded14",
   "metadata": {},
   "source": [
    "## Q13. "
   ]
  },
  {
   "cell_type": "code",
   "execution_count": null,
   "id": "cac3968d-befb-45e2-88a3-8a1bee16ed32",
   "metadata": {},
   "outputs": [],
   "source": [
    "## code\n",
    "\n",
    "duplicate_list = [1, 2, 1,6, 3, 2, 1, 4, 5, 10, 6, 5, 4, 6,3,10]\n",
    "\n",
    "count_freq = []\n",
    "\n",
    "def count_freqquecy_element():\n",
    "    for ele in duplicate_list:\n",
    "        count_freq.append(duplicate_list.count(ele))\n",
    "    my_dict = {key: value for key, value in zip(duplicate_list, count_freq)}\n",
    "    return (my_dict)\n",
    "\n",
    "mydict = count_freqquecy_element()\n",
    "print(mydict)"
   ]
  },
  {
   "cell_type": "code",
   "execution_count": null,
   "id": "7bc010b0-b03d-47ad-9c07-6c782d74e04e",
   "metadata": {},
   "outputs": [],
   "source": []
  },
  {
   "cell_type": "markdown",
   "id": "54a7f8db-3d96-439b-880e-6aedd1b5d6db",
   "metadata": {},
   "source": [
    "## Q14 reverse a list with built in function"
   ]
  },
  {
   "cell_type": "code",
   "execution_count": 12,
   "id": "0a67b0d0-6ee9-4ce7-8e2c-38999b403a1b",
   "metadata": {},
   "outputs": [
    {
     "name": "stdout",
     "output_type": "stream",
     "text": [
      "Original List->  [38, 23, 24, 14, 21, 5, 13, 37, 29, 4]\n",
      "Reversed list->  [4, 29, 37, 13, 5, 21, 14, 24, 23, 38]\n"
     ]
    }
   ],
   "source": [
    "## code\n",
    "import random\n",
    "lst = []\n",
    "for i in range(10):\n",
    "    lst.append(random.randrange(40))\n",
    "\n",
    "print(\"Original List-> \",lst)\n",
    "print(\"Reversed list-> \",lst[::-1])"
   ]
  },
  {
   "cell_type": "code",
   "execution_count": null,
   "id": "b8382486-a0ed-4931-af06-745584bf7cd4",
   "metadata": {},
   "outputs": [],
   "source": []
  },
  {
   "cell_type": "markdown",
   "id": "739fa9f5-5159-4cdb-8732-91bce7a0c456",
   "metadata": {},
   "source": [
    "## Q15.Remove duplicates from list"
   ]
  },
  {
   "cell_type": "code",
   "execution_count": 13,
   "id": "a15dfc64-3aba-4bac-8326-c56aaa294178",
   "metadata": {},
   "outputs": [
    {
     "name": "stdout",
     "output_type": "stream",
     "text": [
      "[3, 7, 8, 2, 4, 5]\n"
     ]
    }
   ],
   "source": [
    "## code\n",
    "integer_lst = [3, 7, 2, 5, 3, 7, 8, 2, 4, 5]\n",
    "\n",
    "def removeALlDuplicates(integer_lst):\n",
    "    for ele in integer_lst:\n",
    "        count = integer_lst.count(ele)\n",
    "        if count > 1:\n",
    "            integer_lst.append(integer_lst.remove(ele))\n",
    "            integer_lst = list(filter(lambda x: x is not None, integer_lst))\n",
    "    return integer_lst\n",
    "\n",
    "\n",
    "returned_lst = removeALlDuplicates(integer_lst)\n",
    "print(returned_lst)"
   ]
  },
  {
   "cell_type": "code",
   "execution_count": null,
   "id": "019ffd30-cbf9-4f5d-ad67-a307a2b267c2",
   "metadata": {},
   "outputs": [],
   "source": []
  },
  {
   "cell_type": "markdown",
   "id": "d52094a2-53f5-470c-a917-08a6b9c32d93",
   "metadata": {},
   "source": [
    "## Q16. check if list is sorted or not "
   ]
  },
  {
   "cell_type": "code",
   "execution_count": 15,
   "id": "e398bee1-491c-46a8-b8b7-9293f808bbc2",
   "metadata": {},
   "outputs": [
    {
     "name": "stdout",
     "output_type": "stream",
     "text": [
      "Soted List!\n"
     ]
    }
   ],
   "source": [
    "## code\n",
    "\n",
    "#checking if a given list is sorted or not\n",
    "lst1 = [1,2,3,4,5]\n",
    "lst2 = [20, 0, 35, 15, 2, 26, 35, 33, 9, 36]\n",
    "##20, 0, 35, 15, 2, 26, 35, 33, 9, 36\n",
    "def isSotedAccending():\n",
    "    for i in range(len(lst1)-1):\n",
    "        if (lst1[i] <lst1[i+1]):\n",
    "            flag = 0\n",
    "        else:\n",
    "            flag = 1\n",
    "            break\n",
    "    return flag\n",
    "flag = isSotedAccending()\n",
    "if flag == 0:\n",
    "    print(\"Soted List!\")\n",
    "else:\n",
    "    print(\"Unsorted List!\")"
   ]
  },
  {
   "cell_type": "code",
   "execution_count": null,
   "id": "7a7104b1-f9e8-4d2c-be96-ae4d76c40bd7",
   "metadata": {},
   "outputs": [],
   "source": []
  },
  {
   "cell_type": "markdown",
   "id": "a66162b9-37ec-48c2-bbd3-16ed2c555961",
   "metadata": {},
   "source": [
    "## Q17. Merge 2 sorted list in a single list"
   ]
  },
  {
   "cell_type": "code",
   "execution_count": 25,
   "id": "4a558011-f0af-4d9b-bc69-6487c3aa8847",
   "metadata": {},
   "outputs": [
    {
     "name": "stdout",
     "output_type": "stream",
     "text": [
      "The Merged sorted Lists are:[1, 9, 14, 17, 18, 26, 31, 37, 38, 40, 3, 7, 7, 14, 22, 22, 23, 24, 34, 49]\n"
     ]
    }
   ],
   "source": [
    "#code\n",
    "\n",
    "from random import randrange\n",
    "lst1 = []\n",
    "lst2 = []\n",
    "for i in range(10):\n",
    "    lst1.append(randrange(50))\n",
    "for i in range(10):\n",
    "    lst2.append(randrange(50))\n",
    "lst1.sort()\n",
    "lst2.sort()\n",
    "print(f\"The Merged sorted Lists are:{lst1+lst2}\")"
   ]
  },
  {
   "cell_type": "code",
   "execution_count": null,
   "id": "4f1a8e75-e719-40db-8f65-cae006d0df19",
   "metadata": {},
   "outputs": [],
   "source": []
  },
  {
   "cell_type": "markdown",
   "id": "d5db88a2-2632-43bd-8db3-c980b4c6ce6f",
   "metadata": {},
   "source": [
    "## Q 18. intersection of 2 list"
   ]
  },
  {
   "cell_type": "code",
   "execution_count": 27,
   "id": "3d0a50ed-6a66-42ac-a7ce-743159371c4e",
   "metadata": {},
   "outputs": [
    {
     "name": "stdout",
     "output_type": "stream",
     "text": [
      "The intersected list is:  [3, 4, 5]\n"
     ]
    }
   ],
   "source": [
    "## code\n",
    "lst1 = [1, 2, 3, 4, 5]\n",
    "lst2 = [3, 4, 5, 6, 7]\n",
    "\n",
    "set1 = set(lst1)\n",
    "set2 = set(lst2)\n",
    "\n",
    "set_inter = set1.intersection(set2)\n",
    "print(\"The intersected list is: \",list(set_inter))"
   ]
  },
  {
   "cell_type": "code",
   "execution_count": null,
   "id": "a88aade2-eb75-4f59-b733-98aabafca5cb",
   "metadata": {},
   "outputs": [],
   "source": []
  },
  {
   "cell_type": "markdown",
   "id": "2277121e-47ab-45a3-b553-4fd8322f79d8",
   "metadata": {},
   "source": [
    "## 19. union of 2 lists without duplicate"
   ]
  },
  {
   "cell_type": "code",
   "execution_count": 28,
   "id": "bf1a23e1-b1fc-4180-8db5-d5ebc4ff5c1e",
   "metadata": {},
   "outputs": [
    {
     "name": "stdout",
     "output_type": "stream",
     "text": [
      "The United list is:  [1, 2, 3, 4, 5, 6, 7, 8]\n"
     ]
    }
   ],
   "source": [
    "## code\n",
    "\n",
    "list1 = [1, 2, 3, 3, 4, 4, 5, 5]\n",
    "list2 = [3, 4, 4, 5, 6, 6, 7, 8]\n",
    "\n",
    "\n",
    "set1 = set(list1)\n",
    "set2 = set(list2)\n",
    "\n",
    "set_united = set1.union(set2)\n",
    "print(\"The United list is: \",list(set_united))"
   ]
  },
  {
   "cell_type": "code",
   "execution_count": null,
   "id": "b0b6fa41-ec14-4040-baa1-22db25302e3f",
   "metadata": {},
   "outputs": [],
   "source": []
  },
  {
   "cell_type": "markdown",
   "id": "54926520-ff2b-4a3d-9248-92e9df21dc9a",
   "metadata": {},
   "source": [
    "## Q20. shuffle a given list randomlywihout any built in reverse function"
   ]
  },
  {
   "cell_type": "code",
   "execution_count": 29,
   "id": "23926813-9a5f-473a-b538-adba4ba99a35",
   "metadata": {},
   "outputs": [
    {
     "name": "stdout",
     "output_type": "stream",
     "text": [
      "['o', 'S', 'e', ' ', 'u', 'o', 'h', ' ', 't', 'e', 'f', 'd', 'l', 'f', 'C']\n"
     ]
    }
   ],
   "source": [
    "import random\n",
    "\n",
    "# Given list\n",
    "my_list = ['C', 'o', 'd', 'e', ' ', 't', 'o', ' ', 'S', 'h', 'u', 'f', 'f', 'l', 'e']\n",
    "\n",
    "# Custom shuffle function using Fisher-Yates algorithm\n",
    "def custom_shuffle(input_list):\n",
    "    for i in range(len(input_list) -1, 0, -1):\n",
    "        j = random.randint(0, i)\n",
    "        input_list[i], input_list[j] = input_list[j], input_list[i]\n",
    "\n",
    "custom_shuffle(my_list)\n",
    "print(my_list)"
   ]
  },
  {
   "cell_type": "code",
   "execution_count": null,
   "id": "6a86db44-109a-4970-b1fb-d791bda128e5",
   "metadata": {},
   "outputs": [],
   "source": []
  },
  {
   "cell_type": "markdown",
   "id": "8edfe5d7-4566-4efd-bcf0-de2d020c6008",
   "metadata": {},
   "source": [
    "## 21. input 2 tuples and merge into newly built tuple"
   ]
  },
  {
   "cell_type": "code",
   "execution_count": 1,
   "id": "ca061397-f7c9-4aed-a545-15cec75f9214",
   "metadata": {},
   "outputs": [
    {
     "name": "stdin",
     "output_type": "stream",
     "text": [
      "Enter the elements in TUPLE 1:  1\n",
      "Enter the elements in TUPLE 1:  2\n",
      "Enter the elements in TUPLE 1:  3\n",
      "Enter the elements in TUPLE 1:  4\n",
      "Enter the elements in TUPLE 1:  5\n",
      "Enter the elements in TUPLE 2:  10\n",
      "Enter the elements in TUPLE 2:  9\n",
      "Enter the elements in TUPLE 2:  8\n",
      "Enter the elements in TUPLE 2:  7\n",
      "Enter the elements in TUPLE 2:  6\n"
     ]
    },
    {
     "name": "stdout",
     "output_type": "stream",
     "text": [
      "('1', '2', '3', '4', '5', '10', '9', '8', '7', '6')\n"
     ]
    }
   ],
   "source": [
    "MAX = 5\n",
    "\n",
    "tup1 = []\n",
    "tup2 = []\n",
    "\n",
    "def tuple_concatination():\n",
    "    for _ in range(MAX):\n",
    "        digit = input(\"Enter the elements in TUPLE 1: \")\n",
    "        tup1.append(digit)\n",
    "\n",
    "    for _ in range(MAX):\n",
    "        digit = input(\"Enter the elements in TUPLE 2: \")\n",
    "        tup2.append(digit)\n",
    "    new_tuple = tuple(tup1) + tuple(tup2)\n",
    "    return new_tuple\n",
    "new_tuple =  tuple_concatination()\n",
    "print(new_tuple)"
   ]
  },
  {
   "cell_type": "code",
   "execution_count": null,
   "id": "dec763fc-073c-4de9-94a5-ef921f003652",
   "metadata": {},
   "outputs": [],
   "source": []
  },
  {
   "cell_type": "markdown",
   "id": "b3b91896-9e29-4a3f-9e26-65e3d8ac38c7",
   "metadata": {},
   "source": [
    "## 22  code input 2 set of integer and find intersection"
   ]
  },
  {
   "cell_type": "code",
   "execution_count": 3,
   "id": "332c7a44-8d3c-494d-a371-e484a2797e1c",
   "metadata": {},
   "outputs": [
    {
     "name": "stdin",
     "output_type": "stream",
     "text": [
      "Enter a interger in set 1:  1\n",
      "Enter a interger in set 1:  2\n",
      "Enter a interger in set 1:  6\n",
      "Enter a interger in set 1:  5\n",
      "Enter a interger in set 1:  4\n",
      "Enter a interger in set 2:  4\n",
      "Enter a interger in set 2:  5\n",
      "Enter a interger in set 2:  6\n",
      "Enter a interger in set 2:  8\n",
      "Enter a interger in set 2:  9\n"
     ]
    },
    {
     "name": "stdout",
     "output_type": "stream",
     "text": [
      "The intersected set is-> {4, 5, 6}\n"
     ]
    }
   ],
   "source": [
    "## code\n",
    "lst1 = []\n",
    "lst2 = []\n",
    "\n",
    "for _ in range(5):\n",
    "    intt = int(input(\"Enter a interger in set 1: \"))\n",
    "    lst1.append(intt)\n",
    "\n",
    "for _ in range(5):\n",
    "    intt = int(input(\"Enter a interger in set 2: \"))\n",
    "    lst2.append(intt)\n",
    "\n",
    "set1 = set(lst1)\n",
    "set2 = set(lst2)\n",
    "\n",
    "\"\"\"\n",
    "set1 = {3, 7, 12, 18, 25, 31, 37, 42}\n",
    "set2 = {18, 25, 31, 42, 55, 61, 67, 73}\n",
    "\"\"\"\n",
    "print(f\"The intersected set is-> {set1.intersection(set2)}\")"
   ]
  },
  {
   "cell_type": "code",
   "execution_count": null,
   "id": "5bd7cbbf-71ca-4be2-abf2-bc59af565740",
   "metadata": {},
   "outputs": [],
   "source": []
  },
  {
   "cell_type": "markdown",
   "id": "e90359cb-6719-4d4f-8e84-0cd9da582a5a",
   "metadata": {},
   "source": [
    "## Q 23 tuple concatination"
   ]
  },
  {
   "cell_type": "code",
   "execution_count": 11,
   "id": "ec843700-7ad2-48aa-a508-b01b3f031ada",
   "metadata": {},
   "outputs": [
    {
     "name": "stdin",
     "output_type": "stream",
     "text": [
      "Enter the elements in TUPLE 1:  4\n",
      "Enter the elements in TUPLE 1:  66\n",
      "Enter the elements in TUPLE 1:  3\n",
      "Enter the elements in TUPLE 1:  22\n",
      "Enter the elements in TUPLE 1:  56\n",
      "Enter the elements in TUPLE 2:  89\n",
      "Enter the elements in TUPLE 2:  56\n",
      "Enter the elements in TUPLE 2:  22\n",
      "Enter the elements in TUPLE 2:  23\n",
      "Enter the elements in TUPLE 2:  56\n"
     ]
    },
    {
     "name": "stdout",
     "output_type": "stream",
     "text": [
      "('4', '66', '3', '22', '56', '89', '56', '22', '23', '56')\n"
     ]
    }
   ],
   "source": [
    "## code\n",
    "MAX = 5\n",
    "\n",
    "tup1 = []\n",
    "tup2 = []\n",
    "\n",
    "def tuple_concatination():\n",
    "    for _ in range(MAX):\n",
    "        digit = input(\"Enter the elements in TUPLE 1: \")\n",
    "        tup1.append(digit)\n",
    "\n",
    "    for _ in range(MAX):\n",
    "        digit = input(\"Enter the elements in TUPLE 2: \")\n",
    "        tup2.append(digit)\n",
    "    new_tuple = tuple(tup1) + tuple(tup2)\n",
    "    return new_tuple\n",
    "new_tuple =  tuple_concatination()\n",
    "print(new_tuple)"
   ]
  },
  {
   "cell_type": "code",
   "execution_count": null,
   "id": "af6133b7-62ac-4e08-a51f-8f47511e6383",
   "metadata": {},
   "outputs": [],
   "source": []
  },
  {
   "cell_type": "markdown",
   "id": "baeb6c01-190c-42cd-86db-8107af8a97a3",
   "metadata": {},
   "source": [
    "## Q 24. input 2 set of strings and find difference of both"
   ]
  },
  {
   "cell_type": "code",
   "execution_count": 10,
   "id": "d14eb9d9-6a76-4033-b694-f6cabe5c893c",
   "metadata": {},
   "outputs": [
    {
     "name": "stdin",
     "output_type": "stream",
     "text": [
      "Enter the FIRST set of string:  machine learning artificial\n",
      "Enter the SECOND set of string:  chat gpt intilligence learning\n"
     ]
    },
    {
     "name": "stdout",
     "output_type": "stream",
     "text": [
      "The difference of SET 2 FROM SET 1 of two sets->  {'artificial', 'machine'}\n"
     ]
    }
   ],
   "source": [
    "## code\n",
    "s1 = input(\"Enter the FIRST set of string: \")\n",
    "s2 = input(\"Enter the SECOND set of string: \")\n",
    "\n",
    "l1 = s1.split(\" \")\n",
    "l2 = s2.split(\" \")\n",
    "\n",
    "set1 = set(l1)\n",
    "set2 = set(l2)\n",
    "\n",
    "print(\"The difference of SET 2 FROM SET 1 of two sets-> \",set1.difference(set2))"
   ]
  },
  {
   "cell_type": "code",
   "execution_count": null,
   "id": "0af1e7dd-49ef-4adc-b59b-e35ceb2f3b6c",
   "metadata": {},
   "outputs": [],
   "source": []
  },
  {
   "cell_type": "markdown",
   "id": "34e6f063-a164-4590-910d-3f964cdf6cf2",
   "metadata": {},
   "source": [
    "## Q 25. slicing in tuple from given specific ranges"
   ]
  },
  {
   "cell_type": "code",
   "execution_count": 8,
   "id": "89225b15-1f7c-48f5-92d8-594f507a6039",
   "metadata": {},
   "outputs": [
    {
     "name": "stdout",
     "output_type": "stream",
     "text": [
      "(3, 4, 5, 6)\n"
     ]
    }
   ],
   "source": [
    "## code\n",
    "\n",
    "def get_elements_in_range(input_tuple, start_index, end_index):\n",
    "    return input_tuple[start_index:end_index+1]\n",
    "\n",
    "# Example usage\n",
    "original_tuple = (1, 2, 3, 4, 5, 6, 7, 8, 9)\n",
    "result_tuple = get_elements_in_range(original_tuple, 2, 5)\n",
    "print(result_tuple) "
   ]
  },
  {
   "cell_type": "code",
   "execution_count": null,
   "id": "2c0e6722-f9ca-477d-9263-d00aed84d0c1",
   "metadata": {},
   "outputs": [],
   "source": []
  },
  {
   "cell_type": "markdown",
   "id": "ab6d571d-612e-4b98-8ace-4faed8735cb7",
   "metadata": {},
   "source": [
    "## Q26. input two set of characters and print the union of the two"
   ]
  },
  {
   "cell_type": "code",
   "execution_count": 7,
   "id": "f86b880f-72a7-400f-a892-f8bb348e0023",
   "metadata": {},
   "outputs": [
    {
     "name": "stdin",
     "output_type": "stream",
     "text": [
      "Enter a character in set 1:  A\n",
      "Enter a character in set 1:  R\n",
      "Enter a character in set 1:  N\n",
      "Enter a character in set 1:  A\n",
      "Enter a character in set 1:  B\n",
      "Enter a character in set 2:  R\n",
      "Enter a character in set 2:  O\n",
      "Enter a character in set 2:  H\n",
      "Enter a character in set 2:  A\n",
      "Enter a character in set 2:  N\n"
     ]
    },
    {
     "name": "stdout",
     "output_type": "stream",
     "text": [
      "The united set->  {'N', 'A', 'H', 'B', 'O', 'R'}\n"
     ]
    }
   ],
   "source": [
    "## code\n",
    "l1 = []\n",
    "l2 = []\n",
    "\n",
    "for _ in range(5):\n",
    "    intt = input(\"Enter a character in set 1: \")\n",
    "    l1.append(intt)\n",
    "s1 =set(l1)\n",
    "\n",
    "for _ in range(5):\n",
    "    intt = input(\"Enter a character in set 2: \")\n",
    "    l2.append(intt)\n",
    "    \n",
    "s1 = set(l1)\n",
    "s2 = set(l2)\n",
    "print(\"The united set-> \",s1.union(s2))"
   ]
  },
  {
   "cell_type": "code",
   "execution_count": null,
   "id": "804cd2bd-364e-491b-b877-7439dd8b8eca",
   "metadata": {},
   "outputs": [],
   "source": []
  },
  {
   "cell_type": "markdown",
   "id": "6583035d-5875-49ba-8a1a-e5991850efd2",
   "metadata": {},
   "source": [
    "## 27. maximum and minimum from input tuple using tuple unpacking"
   ]
  },
  {
   "cell_type": "code",
   "execution_count": 14,
   "id": "9820153b-4b28-4d96-afb7-986a76887d48",
   "metadata": {},
   "outputs": [
    {
     "name": "stdin",
     "output_type": "stream",
     "text": [
      "Enter the element in tuple:  100\n",
      "Enter the element in tuple:  89\n",
      "Enter the element in tuple:  65\n",
      "Enter the element in tuple:  45\n",
      "Enter the element in tuple:  12\n",
      "Enter the element in tuple:  78\n"
     ]
    },
    {
     "name": "stdout",
     "output_type": "stream",
     "text": [
      "MINIMUM element-> 12 and MAXIMUM elements-> 100\n"
     ]
    }
   ],
   "source": [
    "22\n",
    "15\n",
    "45\n",
    "78###### code\n",
    "## inputing elements in tuple\n",
    "\n",
    "lst = []\n",
    "for _ in range(6):\n",
    "    ele = int(input(\"Enter the element in tuple: \"))\n",
    "    lst.append(ele)\n",
    "\n",
    "tup = tuple(lst)\n",
    "\n",
    "def maximum_and_minimum_in_tuple(tup):\n",
    "    maxi, mini = max(tup),min(tup)\n",
    "    return maxi, mini\n",
    "\n",
    "\n",
    "maxi, mini = maximum_and_minimum_in_tuple(tup)\n",
    "print(f\"MINIMUM element-> {mini} and MAXIMUM elements-> {maxi}\")"
   ]
  },
  {
   "cell_type": "code",
   "execution_count": null,
   "id": "83d2d980-4b82-4f15-be23-c684f12190f1",
   "metadata": {},
   "outputs": [],
   "source": []
  },
  {
   "cell_type": "markdown",
   "id": "05b02b07-c43e-4c30-840f-fbe19f709d23",
   "metadata": {},
   "source": [
    "## Q28. define two integer sets and find union,intersection and difference of two sets"
   ]
  },
  {
   "cell_type": "code",
   "execution_count": 15,
   "id": "95f3cdb8-b6de-4f68-8562-dccfa1a44020",
   "metadata": {},
   "outputs": [
    {
     "name": "stdout",
     "output_type": "stream",
     "text": [
      "The UNION of two sets->  {2, 3, 6, 7, 8, 10, 14}\n",
      "The INTERSECTION of two sets->  {8}\n",
      "The difference of SET 2 FROM SET 1 of two sets->  {10, 14, 6}\n",
      "The difference of SET 1 FROM SET 2 of two sets->  {2, 3, 7}\n"
     ]
    }
   ],
   "source": [
    "## code\n",
    "import random\n",
    "s1 = {14, 10, 8, 6, 8}\n",
    "s2 = {7, 2, 8, 3, 8}\n",
    "\n",
    "print(\"The UNION of two sets-> \",s1.union(s2))\n",
    "print(\"The INTERSECTION of two sets-> \",s1.intersection(s2))\n",
    "\n",
    "print(\"The difference of SET 2 FROM SET 1 of two sets-> \",s1.difference(s2))\n",
    "print(\"The difference of SET 1 FROM SET 2 of two sets-> \",s2.difference(s1))"
   ]
  },
  {
   "cell_type": "code",
   "execution_count": null,
   "id": "2cc42970-2169-4c3c-b8b0-9fc805fe856b",
   "metadata": {},
   "outputs": [],
   "source": []
  },
  {
   "cell_type": "markdown",
   "id": "bb94222b-f2c0-4648-8db7-563af0012712",
   "metadata": {},
   "source": [
    "## Q29. function to create a tuple and print occurance of a given element"
   ]
  },
  {
   "cell_type": "code",
   "execution_count": 16,
   "id": "38cc931e-dd23-41be-ba47-127e4ee49d1d",
   "metadata": {},
   "outputs": [
    {
     "name": "stdin",
     "output_type": "stream",
     "text": [
      "Enter the element to count ocurance:  5\n"
     ]
    },
    {
     "name": "stdout",
     "output_type": "stream",
     "text": [
      "The created tuple is->  (6, 4, 11, 6, 19, 7, 5, 10, 12, 8)\n",
      "the frequency->  1\n"
     ]
    }
   ],
   "source": [
    "## code\n",
    "from random import randint\n",
    "\n",
    "l1 = []\n",
    "tup1 = ()\n",
    "\n",
    "def count_occurance_in_Tuple():\n",
    "    ele = int(input(\"Enter the element to count ocurance: \"))\n",
    "    for _ in range(10):\n",
    "        r_intt = randint(1,20)\n",
    "        l1.append(r_intt)\n",
    "    tup1 = tuple(l1)\n",
    "    print(\"The created tuple is-> \",tup1)\n",
    "    if ele in tup1:\n",
    "        count = tup1.count(ele)\n",
    "        return count\n",
    "    else:\n",
    "        print(\"The element is ABSENT in tuple! sorry!\")\n",
    "\n",
    "count = count_occurance_in_Tuple()\n",
    "print(\"the frequency-> \",count)"
   ]
  },
  {
   "cell_type": "code",
   "execution_count": null,
   "id": "916c1eea-cd43-41bc-b665-748117d2d7e8",
   "metadata": {},
   "outputs": [],
   "source": []
  },
  {
   "cell_type": "markdown",
   "id": "acab713d-e961-4857-89c5-8fd8c6f0293b",
   "metadata": {},
   "source": [
    "## Q30. Symmetric difference of sets"
   ]
  },
  {
   "cell_type": "code",
   "execution_count": 18,
   "id": "5a1825a6-d82d-49cb-9bb8-435f035fb104",
   "metadata": {},
   "outputs": [
    {
     "name": "stdout",
     "output_type": "stream",
     "text": [
      "Enter Set of Strings in set 1->\n"
     ]
    },
    {
     "name": "stdin",
     "output_type": "stream",
     "text": [
      "Enter a string:  abc\n",
      "Enter a string:  def\n",
      "Enter a string:  ghi\n"
     ]
    },
    {
     "name": "stdout",
     "output_type": "stream",
     "text": [
      "Enter Set of Strings in set 2->\n"
     ]
    },
    {
     "name": "stdin",
     "output_type": "stream",
     "text": [
      "Enter a string:  ghi\n",
      "Enter a string:  def\n",
      "Enter a string:  xyz\n"
     ]
    },
    {
     "name": "stdout",
     "output_type": "stream",
     "text": [
      "Symmetric difference-> {'xyz', 'abc'}\n"
     ]
    }
   ],
   "source": [
    "## code \n",
    "sett1 = set()\n",
    "sett2 = set()\n",
    "\n",
    "print(\"Enter Set of Strings in set 1->\")\n",
    "for _ in range(3):\n",
    "    string = input(\"Enter a string: \")\n",
    "    sett1.add(string)\n",
    "\n",
    "print(\"Enter Set of Strings in set 2->\")\n",
    "for _ in range(3):\n",
    "    string = input(\"Enter a string: \")\n",
    "    sett2.add(string)\n",
    "\n",
    "sym_differ = sett1.symmetric_difference(sett2)\n",
    "print(f\"Symmetric difference-> {sym_differ}\")"
   ]
  },
  {
   "cell_type": "code",
   "execution_count": null,
   "id": "55127f77-53c7-4fc4-a352-03b913413c52",
   "metadata": {},
   "outputs": [],
   "source": []
  },
  {
   "cell_type": "markdown",
   "id": "24f0eef2-d104-4dc6-896a-1f322c613a4f",
   "metadata": {},
   "source": [
    "## Q31. Write a Python function that takes a list of words and an input string, then returns a dictionary where the keys are the unique words from the list that appear in the input string, and the values are their frequencies in the input string."
   ]
  },
  {
   "cell_type": "markdown",
   "id": "7ae1acf6-8949-42e8-bc66-90c046239b95",
   "metadata": {},
   "source": []
  },
  {
   "cell_type": "code",
   "execution_count": 20,
   "id": "0d77d777-2103-4ee9-a8af-370269f5affc",
   "metadata": {},
   "outputs": [
    {
     "name": "stdin",
     "output_type": "stream",
     "text": [
      "Enter a word:  abc\n",
      "Enter a word:  def\n",
      "Enter a word:  abc\n",
      "Enter a word:  xyz\n",
      "Enter a word:  def\n",
      "Enter a word:  ghi\n"
     ]
    },
    {
     "name": "stdout",
     "output_type": "stream",
     "text": [
      "{'def': 2, 'xyz': 2, 'abc': 2, 'ghi': 1}\n"
     ]
    }
   ],
   "source": [
    "## code \n",
    "\n",
    "words_list =[]\n",
    "count_frequency = []\n",
    "\n",
    "for _ in range(6):\n",
    "    word = input(\"Enter a word: \")\n",
    "    words_list.append(word)\n",
    "\n",
    "for word in words_list:\n",
    "    count = words_list.count(word)\n",
    "    count_frequency.append(count)\n",
    "##words_list = [\"apple\", \"banana\", \"apple\", \"orange\", \"banana\", \"apple\", \"watermelon\", \"kiwi\", \"watermelon\", \"strawberry\"]\n",
    "\n",
    "\n",
    "def count_frquency_of_words(words_list,count_frequency):\n",
    "    \n",
    "        words_list_set = set(words_list)\n",
    "        my_dict = {key: value for key, value in zip(words_list_set, count_frequency)}\n",
    "        return (my_dict)\n",
    "\n",
    "mydict = count_frquency_of_words(words_list,count_frequency)\n",
    "print(mydict)"
   ]
  },
  {
   "cell_type": "code",
   "execution_count": null,
   "id": "2b1f6e38-8f3f-4509-b6c2-22b6b0d28af3",
   "metadata": {},
   "outputs": [],
   "source": []
  },
  {
   "cell_type": "markdown",
   "id": "2bf9df33-4526-4603-9688-424c5d583e53",
   "metadata": {},
   "source": [
    "## Q32. Enter 2 dictionaries and merged into 1 dictionary. Add the values with common Keys"
   ]
  },
  {
   "cell_type": "code",
   "execution_count": 25,
   "id": "257d576a-1270-476f-b72b-d741d9c957ae",
   "metadata": {},
   "outputs": [
    {
     "name": "stdout",
     "output_type": "stream",
     "text": [
      "Enter the values in dictionary1 ->\n"
     ]
    },
    {
     "name": "stdin",
     "output_type": "stream",
     "text": [
      "Enter the key (or enter 'q' to quit):  commonkey\n",
      "Enter the value:  100\n",
      "Enter the key (or enter 'q' to quit):  key1\n",
      "Enter the value:  10\n",
      "Enter the key (or enter 'q' to quit):  key2\n",
      "Enter the value:  20\n"
     ]
    },
    {
     "name": "stdout",
     "output_type": "stream",
     "text": [
      "Enter the values in dictionary2 ->\n"
     ]
    },
    {
     "name": "stdin",
     "output_type": "stream",
     "text": [
      "Enter the key (or enter 'q' to quit):  commonkey\n",
      "Enter the value:  200\n",
      "Enter the key (or enter 'q' to quit):  key3\n",
      "Enter the value:  30\n",
      "Enter the key (or enter 'q' to quit):  key4\n",
      "Enter the value:  40\n"
     ]
    },
    {
     "name": "stdout",
     "output_type": "stream",
     "text": [
      "{'commonkey': ('100', '200'), 'key1': '10', 'key2': '20'}\n"
     ]
    }
   ],
   "source": [
    "## code\n",
    "\n",
    "dict1 = {}\n",
    "print(\"Enter the values in dictionary1 ->\")\n",
    "for _ in range (3):\n",
    "    key = input(\"Enter the key (or enter 'q' to quit): \")\n",
    "    if key == 'q' or key == 'Q':\n",
    "        break\n",
    "    value = input(\"Enter the value: \")\n",
    "    dict1[key] = value\n",
    "\n",
    "dict2 = {}\n",
    "print(\"Enter the values in dictionary2 ->\")\n",
    "for _ in range (3):\n",
    "    key = input(\"Enter the key (or enter 'q' to quit): \")\n",
    "    if key == 'q' or key == 'Q':\n",
    "        break\n",
    "    value = input(\"Enter the value: \")\n",
    "    dict2[key] = value\n",
    "\n",
    "\n",
    "def merge_And_Update_dicts(dict1, dict2):\n",
    "    merged_data = {}\n",
    "    for key in dict1.keys():\n",
    "        if key in dict2.keys():\n",
    "                merged_data[key]= (dict1[key],dict2[key])\n",
    "    dict1.update(merged_data)\n",
    "    print(dict1)\n",
    "merge_And_Update_dicts(dict1,dict2)\n"
   ]
  },
  {
   "cell_type": "code",
   "execution_count": null,
   "id": "9023840b-2681-4836-8737-dfb95532aa64",
   "metadata": {},
   "outputs": [],
   "source": []
  },
  {
   "cell_type": "markdown",
   "id": "16da0577-ed8f-408b-88d5-b130cdf59f43",
   "metadata": {},
   "source": [
    "## Q33. implement a function that accesses values in a nested dictionary based on a list of keys, "
   ]
  },
  {
   "cell_type": "code",
   "execution_count": 26,
   "id": "9832f1d3-ea32-4097-ac37-b7e756059cc3",
   "metadata": {},
   "outputs": [
    {
     "name": "stdout",
     "output_type": "stream",
     "text": [
      "123\n",
      "None\n"
     ]
    }
   ],
   "source": [
    "## code\n",
    "def access_nested_dict(nested_dict, keys_list):\n",
    "    try:\n",
    "        value = nested_dict\n",
    "        for key in keys_list:\n",
    "            value = value[key]\n",
    "        return value\n",
    "    except (KeyError, TypeError):\n",
    "        return None\n",
    "\n",
    "# Example nested dictionary\n",
    "nested_dict = {\n",
    "    'a': {\n",
    "        'b': {\n",
    "            'c': 123\n",
    "        }\n",
    "    }\n",
    "}\n",
    "\n",
    "# List of keys to access the nested dictionary\n",
    "keys = ['a', 'b', 'c']\n",
    "\n",
    "# Access the nested dictionary with the keys\n",
    "result = access_nested_dict(nested_dict, keys)\n",
    "print(result)\n",
    "# Trying to access a key that doesn't exist\n",
    "result_nonexistent = access_nested_dict(nested_dict, ['x', 'y', 'z'])\n",
    "print(result_nonexistent)"
   ]
  },
  {
   "cell_type": "code",
   "execution_count": null,
   "id": "153dc578-4b65-4b13-9a2c-e1bc012fbd76",
   "metadata": {},
   "outputs": [],
   "source": []
  },
  {
   "cell_type": "markdown",
   "id": "24e670b0-100b-41c7-849c-795a18062bb5",
   "metadata": {},
   "source": [
    "## Q34. Sorting dictionary both ascending and descending order based on respective values"
   ]
  },
  {
   "cell_type": "code",
   "execution_count": 27,
   "id": "0fe4955e-8b6d-4775-8078-93daddabcef1",
   "metadata": {},
   "outputs": [
    {
     "name": "stdout",
     "output_type": "stream",
     "text": [
      "{'a': 1, 'c': 2, 'b': 3}\n",
      "{'b': 3, 'c': 2, 'a': 1}\n"
     ]
    }
   ],
   "source": [
    "## code \n",
    "def sort_dict_by_value(input_dict, reverse=False):\n",
    "    sorted_dict = dict(sorted(input_dict.items(), key=lambda item: item[1], reverse=reverse))\n",
    "    return sorted_dict\n",
    "\n",
    "my_dict = {'b': 3, 'a': 1, 'c': 2}\n",
    "\n",
    "# Sort the dictionary by values in ascending order\n",
    "sorted_dict_asc = sort_dict_by_value(my_dict)\n",
    "print(sorted_dict_asc)  \n",
    "\n",
    "# Sort the dictionary by values in descending order\n",
    "sorted_dict_desc = sort_dict_by_value(my_dict, reverse=True)\n",
    "print(sorted_dict_desc) "
   ]
  },
  {
   "cell_type": "code",
   "execution_count": null,
   "id": "e124111e-0dd2-45c7-be02-fe37a7e9d9ad",
   "metadata": {},
   "outputs": [],
   "source": []
  },
  {
   "cell_type": "markdown",
   "id": "f35c83c5-12c3-449e-b955-30d700c4de4a",
   "metadata": {},
   "source": [
    "## Q35. To invert a dictionary in Python by swapping keys and values and handling cases where multiple keys have the same value by storing the keys as a list in the inverted dictionary"
   ]
  },
  {
   "cell_type": "code",
   "execution_count": 28,
   "id": "ce5cd7df-fe26-47a3-b6ba-e3e5346dc459",
   "metadata": {},
   "outputs": [
    {
     "name": "stdout",
     "output_type": "stream",
     "text": [
      "{1: ['a', 'c'], 2: ['b', 'd']}\n"
     ]
    }
   ],
   "source": [
    "## code\n",
    "from collections import defaultdict\n",
    "\n",
    "def invert_dict(input_dict):\n",
    "    inverted_dict = defaultdict(list)\n",
    "    for key, value in input_dict.items():\n",
    "        inverted_dict[value].append(key)\n",
    "    return dict(inverted_dict)\n",
    "\n",
    "# Example dictionary with multiple keys having the same value\n",
    "my_dict = {'a': 1, 'b': 2, 'c': 1, 'd': 2}\n",
    "\n",
    "# Invert the dictionary handling multiple keys with the same value\n",
    "inverted_dict = invert_dict(my_dict)\n",
    "print(inverted_dict)"
   ]
  },
  {
   "cell_type": "code",
   "execution_count": null,
   "id": "cd62c4e1-52d7-46a5-8eb3-e60119a76392",
   "metadata": {},
   "outputs": [],
   "source": []
  }
 ],
 "metadata": {
  "kernelspec": {
   "display_name": "Python 3 (ipykernel)",
   "language": "python",
   "name": "python3"
  },
  "language_info": {
   "codemirror_mode": {
    "name": "ipython",
    "version": 3
   },
   "file_extension": ".py",
   "mimetype": "text/x-python",
   "name": "python",
   "nbconvert_exporter": "python",
   "pygments_lexer": "ipython3",
   "version": "3.10.8"
  }
 },
 "nbformat": 4,
 "nbformat_minor": 5
}
